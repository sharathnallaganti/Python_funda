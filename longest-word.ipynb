{
 "cells": [
  {
   "cell_type": "code",
   "execution_count": 1,
   "id": "468253a8",
   "metadata": {
    "_cell_guid": "b1076dfc-b9ad-4769-8c92-a6c4dae69d19",
    "_uuid": "8f2839f25d086af736a60e9eeb907d3b93b6e0e5",
    "execution": {
     "iopub.execute_input": "2025-10-19T02:21:03.547340Z",
     "iopub.status.busy": "2025-10-19T02:21:03.547049Z",
     "iopub.status.idle": "2025-10-19T02:21:03.556196Z",
     "shell.execute_reply": "2025-10-19T02:21:03.555339Z"
    },
    "papermill": {
     "duration": 0.013203,
     "end_time": "2025-10-19T02:21:03.557516",
     "exception": false,
     "start_time": "2025-10-19T02:21:03.544313",
     "status": "completed"
    },
    "tags": []
   },
   "outputs": [
    {
     "name": "stdout",
     "output_type": "stream",
     "text": [
      "Longest word: efficiently\n"
     ]
    }
   ],
   "source": [
    "# Function to find the longest word in a sentence\n",
    "def longest_word(sentence):\n",
    "    # Split the sentence into words\n",
    "    words = sentence.split()\n",
    "    \n",
    "    # Initialize the longest word\n",
    "    longest = \"\"\n",
    "    \n",
    "    # Loop through each word\n",
    "    for word in words:\n",
    "        # Remove punctuation for clean comparison\n",
    "        clean_word = ''.join(c for c in word if c.isalnum())\n",
    "        if len(clean_word) > len(longest):\n",
    "            longest = clean_word\n",
    "    \n",
    "    return longest\n",
    "\n",
    "# Example usage\n",
    "sentence = \"Gradient descent helps optimize machine learning models efficiently.\"\n",
    "print(\"Longest word:\", longest_word(sentence))\n"
   ]
  }
 ],
 "metadata": {
  "kaggle": {
   "accelerator": "none",
   "dataSources": [],
   "dockerImageVersionId": 31153,
   "isGpuEnabled": false,
   "isInternetEnabled": true,
   "language": "python",
   "sourceType": "notebook"
  },
  "kernelspec": {
   "display_name": "Python 3",
   "language": "python",
   "name": "python3"
  },
  "language_info": {
   "codemirror_mode": {
    "name": "ipython",
    "version": 3
   },
   "file_extension": ".py",
   "mimetype": "text/x-python",
   "name": "python",
   "nbconvert_exporter": "python",
   "pygments_lexer": "ipython3",
   "version": "3.11.13"
  },
  "papermill": {
   "default_parameters": {},
   "duration": 4.864346,
   "end_time": "2025-10-19T02:21:03.877165",
   "environment_variables": {},
   "exception": null,
   "input_path": "__notebook__.ipynb",
   "output_path": "__notebook__.ipynb",
   "parameters": {},
   "start_time": "2025-10-19T02:20:59.012819",
   "version": "2.6.0"
  }
 },
 "nbformat": 4,
 "nbformat_minor": 5
}

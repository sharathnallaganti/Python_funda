{
 "cells": [
  {
   "cell_type": "code",
   "execution_count": 1,
   "id": "537be82c",
   "metadata": {
    "_cell_guid": "b1076dfc-b9ad-4769-8c92-a6c4dae69d19",
    "_uuid": "8f2839f25d086af736a60e9eeb907d3b93b6e0e5",
    "execution": {
     "iopub.execute_input": "2025-10-13T18:26:25.396689Z",
     "iopub.status.busy": "2025-10-13T18:26:25.396475Z",
     "iopub.status.idle": "2025-10-13T18:26:25.403658Z",
     "shell.execute_reply": "2025-10-13T18:26:25.402890Z"
    },
    "papermill": {
     "duration": 0.010953,
     "end_time": "2025-10-13T18:26:25.404833",
     "exception": false,
     "start_time": "2025-10-13T18:26:25.393880",
     "status": "completed"
    },
    "tags": []
   },
   "outputs": [
    {
     "name": "stdout",
     "output_type": "stream",
     "text": [
      "2 1\n"
     ]
    }
   ],
   "source": [
    "a = 1\n",
    "b =  2\n",
    "\n",
    "temp = a\n",
    "\n",
    "a  = b\n",
    "\n",
    "b = temp\n",
    "\n",
    "\n",
    "print(a, b)"
   ]
  },
  {
   "cell_type": "code",
   "execution_count": null,
   "id": "20abc71b",
   "metadata": {
    "papermill": {
     "duration": 0.000996,
     "end_time": "2025-10-13T18:26:25.408007",
     "exception": false,
     "start_time": "2025-10-13T18:26:25.407011",
     "status": "completed"
    },
    "tags": []
   },
   "outputs": [],
   "source": []
  }
 ],
 "metadata": {
  "kaggle": {
   "accelerator": "none",
   "dataSources": [],
   "dockerImageVersionId": 31153,
   "isGpuEnabled": false,
   "isInternetEnabled": true,
   "language": "python",
   "sourceType": "notebook"
  },
  "kernelspec": {
   "display_name": "Python 3",
   "language": "python",
   "name": "python3"
  },
  "language_info": {
   "codemirror_mode": {
    "name": "ipython",
    "version": 3
   },
   "file_extension": ".py",
   "mimetype": "text/x-python",
   "name": "python",
   "nbconvert_exporter": "python",
   "pygments_lexer": "ipython3",
   "version": "3.11.13"
  },
  "papermill": {
   "default_parameters": {},
   "duration": 3.876537,
   "end_time": "2025-10-13T18:26:25.625300",
   "environment_variables": {},
   "exception": null,
   "input_path": "__notebook__.ipynb",
   "output_path": "__notebook__.ipynb",
   "parameters": {},
   "start_time": "2025-10-13T18:26:21.748763",
   "version": "2.6.0"
  }
 },
 "nbformat": 4,
 "nbformat_minor": 5
}
